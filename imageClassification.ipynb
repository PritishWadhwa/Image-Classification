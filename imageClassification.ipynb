{
 "cells": [
  {
   "cell_type": "markdown",
   "metadata": {},
   "source": [
    "# Dataset Preparation"
   ]
  },
  {
   "cell_type": "code",
   "execution_count": 48,
   "metadata": {},
   "outputs": [],
   "source": [
    "import numpy as np\n",
    "import os\n",
    "from tqdm import tqdm\n",
    "import matplotlib.pyplot as plt\n",
    "from pathlib import Path\n",
    "from keras.preprocessing import image"
   ]
  },
  {
   "cell_type": "code",
   "execution_count": 49,
   "metadata": {},
   "outputs": [],
   "source": [
    "p = Path(\"Images/\")"
   ]
  },
  {
   "cell_type": "code",
   "execution_count": 50,
   "metadata": {},
   "outputs": [
    {
     "name": "stdout",
     "output_type": "stream",
     "text": [
      "Images\n"
     ]
    }
   ],
   "source": [
    "print(p)"
   ]
  },
  {
   "cell_type": "code",
   "execution_count": 51,
   "metadata": {},
   "outputs": [],
   "source": [
    "dirs = p.glob('*')"
   ]
  },
  {
   "cell_type": "code",
   "execution_count": 52,
   "metadata": {},
   "outputs": [],
   "source": [
    "p = Path(\"Images/\")\n",
    "dirs = p.glob('*')\n",
    "\n",
    "labelsDict = {\n",
    "    \"cat\": 0,\n",
    "    \"dog\": 1,\n",
    "    \"horse\": 2,\n",
    "    \"human\": 3\n",
    "}\n",
    "\n",
    "imageData = []\n",
    "imageLabels = []\n",
    "\n",
    "for dirName in dirs:\n",
    "    label = str(dirName).split(\"/\")[-1][:-1]\n",
    "    if label[0] != '.':\n",
    "        for imgPath in dirName.glob('*.jpg'):\n",
    "            img = image.load_img(imgPath, target_size=(32, 32))\n",
    "            imgArr = image.img_to_array(img)\n",
    "            imageData.append(imgArr)\n",
    "            imageLabels.append(labelsDict[label])\n"
   ]
  },
  {
   "cell_type": "code",
   "execution_count": 53,
   "metadata": {},
   "outputs": [
    {
     "data": {
      "text/plain": [
       "(808, 808)"
      ]
     },
     "execution_count": 53,
     "metadata": {},
     "output_type": "execute_result"
    }
   ],
   "source": [
    "len(imageData), len(imageLabels)"
   ]
  },
  {
   "cell_type": "markdown",
   "metadata": {},
   "source": [
    "## Convert to numpy arrays and shuffling the data"
   ]
  },
  {
   "cell_type": "code",
   "execution_count": 54,
   "metadata": {},
   "outputs": [],
   "source": [
    "imageData = np.array(imageData, dtype=\"float\") / 255.0\n",
    "imageLabels = np.array(imageLabels, dtype=\"int\")"
   ]
  },
  {
   "cell_type": "code",
   "execution_count": 55,
   "metadata": {},
   "outputs": [
    {
     "data": {
      "text/plain": [
       "((808, 32, 32, 3), (808,))"
      ]
     },
     "execution_count": 55,
     "metadata": {},
     "output_type": "execute_result"
    }
   ],
   "source": [
    "imageData.shape, imageLabels.shape"
   ]
  },
  {
   "cell_type": "code",
   "execution_count": 56,
   "metadata": {},
   "outputs": [],
   "source": [
    "import random"
   ]
  },
  {
   "cell_type": "code",
   "execution_count": 57,
   "metadata": {},
   "outputs": [],
   "source": [
    "combinedData = list(zip(imageData, imageLabels))"
   ]
  },
  {
   "cell_type": "code",
   "execution_count": 58,
   "metadata": {},
   "outputs": [],
   "source": [
    "random.shuffle(combinedData)"
   ]
  },
  {
   "cell_type": "code",
   "execution_count": 59,
   "metadata": {},
   "outputs": [],
   "source": [
    "imageData[:], imageLabels[:] = zip(*combinedData)"
   ]
  },
  {
   "cell_type": "code",
   "execution_count": 60,
   "metadata": {},
   "outputs": [
    {
     "data": {
      "text/plain": [
       "((808, 32, 32, 3), (808,))"
      ]
     },
     "execution_count": 60,
     "metadata": {},
     "output_type": "execute_result"
    }
   ],
   "source": [
    "imageData.shape, imageLabels.shape"
   ]
  },
  {
   "cell_type": "markdown",
   "metadata": {},
   "source": [
    "## Visualizing the data"
   ]
  },
  {
   "cell_type": "code",
   "execution_count": 61,
   "metadata": {},
   "outputs": [],
   "source": [
    "def drawImage(img):\n",
    "    plt.imshow(img)\n",
    "    plt.axis(\"off\")\n",
    "    plt.show()"
   ]
  },
  {
   "cell_type": "code",
   "execution_count": 62,
   "metadata": {},
   "outputs": [
    {
     "data": {
      "image/png": "[encoded data removed]",
      "text/plain": [
       "<Figure size 432x288 with 1 Axes>"
      ]
     },
     "metadata": {
      "needs_background": "light"
     },
     "output_type": "display_data"
    },
    {
     "name": "stdout",
     "output_type": "stream",
     "text": [
      "0\n"
     ]
    },
    {
     "data": {
      "image/png": "[encoded data removed]",
      "text/plain": [
       "<Figure size 432x288 with 1 Axes>"
      ]
     },
     "metadata": {
      "needs_background": "light"
     },
     "output_type": "display_data"
    },
    {
     "name": "stdout",
     "output_type": "stream",
     "text": [
      "2\n"
     ]
    },
    {
     "data": {
      "image/png": "[encoded data removed]",
      "text/plain": [
       "<Figure size 432x288 with 1 Axes>"
      ]
     },
     "metadata": {
      "needs_background": "light"
     },
     "output_type": "display_data"
    },
    {
     "name": "stdout",
     "output_type": "stream",
     "text": [
      "2\n"
     ]
    },
    {
     "data": {
      "image/png": "[encoded data removed]",
      "text/plain": [
       "<Figure size 432x288 with 1 Axes>"
      ]
     },
     "metadata": {
      "needs_background": "light"
     },
     "output_type": "display_data"
    },
    {
     "name": "stdout",
     "output_type": "stream",
     "text": [
      "3\n"
     ]
    },
    {
     "data": {
      "image/png": "[encoded data removed]",
      "text/plain": [
       "<Figure size 432x288 with 1 Axes>"
      ]
     },
     "metadata": {
      "needs_background": "light"
     },
     "output_type": "display_data"
    },
    {
     "name": "stdout",
     "output_type": "stream",
     "text": [
      "0\n"
     ]
    },
    {
     "data": {
      "image/png": "[encoded data removed]",
      "text/plain": [
       "<Figure size 432x288 with 1 Axes>"
      ]
     },
     "metadata": {
      "needs_background": "light"
     },
     "output_type": "display_data"
    },
    {
     "name": "stdout",
     "output_type": "stream",
     "text": [
      "2\n"
     ]
    },
    {
     "data": {
      "image/png": "[encoded data removed]",
      "text/plain": [
       "<Figure size 432x288 with 1 Axes>"
      ]
     },
     "metadata": {
      "needs_background": "light"
     },
     "output_type": "display_data"
    },
    {
     "name": "stdout",
     "output_type": "stream",
     "text": [
      "2\n"
     ]
    },
    {
     "data": {
      "image/png": "[encoded data removed]",
      "text/plain": [
       "<Figure size 432x288 with 1 Axes>"
      ]
     },
     "metadata": {
      "needs_background": "light"
     },
     "output_type": "display_data"
    },
    {
     "name": "stdout",
     "output_type": "stream",
     "text": [
      "0\n"
     ]
    },
    {
     "data": {
      "image/png": "[encoded data removed]",
      "text/plain": [
       "<Figure size 432x288 with 1 Axes>"
      ]
     },
     "metadata": {
      "needs_background": "light"
     },
     "output_type": "display_data"
    },
    {
     "name": "stdout",
     "output_type": "stream",
     "text": [
      "2\n"
     ]
    },
    {
     "data": {
      "image/png": "[encoded data removed]",
      "text/plain": [
       "<Figure size 432x288 with 1 Axes>"
      ]
     },
     "metadata": {
      "needs_background": "light"
     },
     "output_type": "display_data"
    },
    {
     "name": "stdout",
     "output_type": "stream",
     "text": [
      "2\n"
     ]
    }
   ],
   "source": [
    "for i in range(10):\n",
    "    drawImage(imageData[i])\n",
    "    print(imageLabels[i])"
   ]
  },
  {
   "cell_type": "markdown",
   "metadata": {},
   "source": [
    "# SVM Classifier"
   ]
  },
  {
   "cell_type": "code",
   "execution_count": 63,
   "metadata": {},
   "outputs": [],
   "source": [
    "class SVM:\n",
    "    \n",
    "    def __init__(self, C=1.0):\n",
    "        # penalty parameter C\n",
    "        self.C = C\n",
    "        # weights used for the hyperplane\n",
    "        self.W = 0\n",
    "        # bias used for the hyperplane\n",
    "        self.b = 0\n",
    "    \n",
    "    def hingeLoss(self, W, b, X, y):\n",
    "        # hinge loss function\n",
    "        loss = 0.0\n",
    "        loss += .5 * np.dot(W, W.T)\n",
    "\n",
    "        for i in range(X.shape[0]):\n",
    "            ti = y[i] * (np.dot(W, X[i].T) + b)\n",
    "            loss += self.C * max(0, 1 - ti)\n",
    "        \n",
    "        return loss[0][0]\n",
    "\n",
    "    def fit(self, X, y, batchSize=100, learningRate=0.001, maxIter=1000):\n",
    "        noOfFeatures = X.shape[1]\n",
    "        noOfSamples = X.shape[0]\n",
    "\n",
    "        n = learningRate\n",
    "        c = self.C\n",
    "\n",
    "        # training\n",
    "        # initialize weights and bias (model parameters)\n",
    "        w = np.zeros((1, noOfFeatures))\n",
    "        bias = 0\n",
    "\n",
    "        # array to store the loss values\n",
    "        losses = []\n",
    "\n",
    "        # training loop\n",
    "        for i in tqdm(range(maxIter)):\n",
    "\n",
    "            loss = self.hingeLoss(w, bias, X, y)\n",
    "            losses.append(loss)\n",
    "            ids = np.arange(noOfSamples)\n",
    "            np.random.shuffle(ids)\n",
    "\n",
    "            # batch gradient descent with random shuffling\n",
    "            for batchStart in range(0, noOfSamples, batchSize):\n",
    "                # assuming 0 gradient for the batch\n",
    "                gradWeights = 0.0\n",
    "                gradBias = 0.0\n",
    "\n",
    "                # iterate over all examples in the batch\n",
    "                for j in range(batchStart, batchStart + batchSize):\n",
    "                    if j < noOfSamples:\n",
    "                        # get the index of the example\n",
    "                        idx = ids[j]\n",
    "\n",
    "                        # get the label of the example\n",
    "                        yi = y[idx]\n",
    "\n",
    "                        ti = yi * (np.dot(w, X[idx].T) + bias)\n",
    "\n",
    "                        # calculate the gradient (only update if less than 1)\n",
    "                        if ti < 1:\n",
    "                            gradWeights += c * yi * X[idx]\n",
    "                            gradBias += c * yi\n",
    "\n",
    "                # update the weights and bias with the gradient found above\n",
    "                w = w - (learningRate * w) + (learningRate * gradWeights)\n",
    "                bias = bias + (learningRate * gradBias)\n",
    "        \n",
    "        self.W = w\n",
    "        self.b = bias\n",
    "\n",
    "        return w, bias, losses"
   ]
  },
  {
   "cell_type": "markdown",
   "metadata": {},
   "source": [
    "## Convert the binary classification problem to a multiclass classification problem by using 1 vs 1 classifiers"
   ]
  },
  {
   "cell_type": "code",
   "execution_count": 64,
   "metadata": {},
   "outputs": [],
   "source": [
    "image_flattened = imageData.reshape(imageData.shape[0], -1)"
   ]
  },
  {
   "cell_type": "code",
   "execution_count": 65,
   "metadata": {},
   "outputs": [
    {
     "data": {
      "text/plain": [
       "(808, 3072)"
      ]
     },
     "execution_count": 65,
     "metadata": {},
     "output_type": "execute_result"
    }
   ],
   "source": [
    "image_flattened.shape"
   ]
  },
  {
   "cell_type": "code",
   "execution_count": 66,
   "metadata": {},
   "outputs": [],
   "source": [
    "numClasses = len(np.unique(imageLabels))"
   ]
  },
  {
   "cell_type": "code",
   "execution_count": 67,
   "metadata": {},
   "outputs": [],
   "source": [
    "def classWiseData(X, y):\n",
    "    data = {}\n",
    "    for i in range(numClasses):\n",
    "        data[i] = []\n",
    "    for i in range(X.shape[0]):\n",
    "        data[y[i]].append(X[i])\n",
    "    for k in data.keys():\n",
    "        data[k] = np.array(data[k])\n",
    "    return data"
   ]
  },
  {
   "cell_type": "code",
   "execution_count": 68,
   "metadata": {},
   "outputs": [],
   "source": [
    "classwiseData = classWiseData(image_flattened, imageLabels)"
   ]
  },
  {
   "cell_type": "code",
   "execution_count": 69,
   "metadata": {},
   "outputs": [
    {
     "data": {
      "text/plain": [
       "((202, 3072), (202, 3072), (202, 3072), (202, 3072))"
      ]
     },
     "execution_count": 69,
     "metadata": {},
     "output_type": "execute_result"
    }
   ],
   "source": [
    "classwiseData[0].shape, classwiseData[1].shape, classwiseData[2].shape, classwiseData[3].shape"
   ]
  },
  {
   "cell_type": "code",
   "execution_count": 70,
   "metadata": {},
   "outputs": [],
   "source": [
    "def getDataPair(d1, d2):\n",
    "    # combines data of 2 classes d1 and d2 into a single array of shape (2*d1.shape[0], d1.shape[1]) for 1 vs 1 classification\n",
    "\n",
    "    l1, l2 = d1.shape[0], d2.shape[0]\n",
    "    totalSamples = l1 + l2\n",
    "    totalFeatures = d1.shape[1]\n",
    "    dataPair = np.zeros((totalSamples, totalFeatures))\n",
    "    dataLabels = np.zeros(totalSamples)\n",
    "\n",
    "    dataPair[:l1, :] = d1\n",
    "    dataPair[l1:, :] = d2\n",
    "\n",
    "    dataLabels[:l1] = -1\n",
    "    dataLabels[l1:] = 1\n",
    "\n",
    "    return dataPair, dataLabels"
   ]
  },
  {
   "cell_type": "markdown",
   "metadata": {},
   "source": [
    "# Learining the model weights"
   ]
  },
  {
   "cell_type": "code",
   "execution_count": 71,
   "metadata": {},
   "outputs": [],
   "source": [
    "svm = SVM()"
   ]
  },
  {
   "cell_type": "code",
   "execution_count": 72,
   "metadata": {},
   "outputs": [],
   "source": [
    "def trainSVM(X, y):\n",
    "    svmClassifiers = {}\n",
    "    for i in range(numClasses):\n",
    "        svmClassifiers[i] = {}\n",
    "        for j in range(i+1, numClasses):\n",
    "            xPair, yPair = getDataPair(classwiseData[i], classwiseData[j])\n",
    "            wts, bias, losses = svm.fit(xPair, yPair, learningRate=0.00001)\n",
    "            svmClassifiers[i][j] = (wts, bias)\n",
    "    return svmClassifiers"
   ]
  },
  {
   "cell_type": "code",
   "execution_count": 73,
   "metadata": {},
   "outputs": [
    {
     "name": "stderr",
     "output_type": "stream",
     "text": [
      "100%|██████████| 1000/1000 [00:22<00:00, 44.03it/s]\n",
      "100%|██████████| 1000/1000 [00:20<00:00, 48.61it/s]\n",
      "100%|██████████| 1000/1000 [00:20<00:00, 47.63it/s]\n",
      "100%|██████████| 1000/1000 [00:20<00:00, 48.59it/s]\n",
      "100%|██████████| 1000/1000 [00:21<00:00, 47.08it/s]\n",
      "100%|██████████| 1000/1000 [00:22<00:00, 44.68it/s]\n"
     ]
    }
   ],
   "source": [
    "classifiers = trainSVM(image_flattened, imageLabels)"
   ]
  },
  {
   "cell_type": "code",
   "execution_count": 74,
   "metadata": {},
   "outputs": [],
   "source": [
    "catsDogs = classifiers[0][1]"
   ]
  },
  {
   "cell_type": "code",
   "execution_count": 75,
   "metadata": {},
   "outputs": [
    {
     "data": {
      "text/plain": [
       "(1, 3072)"
      ]
     },
     "execution_count": 75,
     "metadata": {},
     "output_type": "execute_result"
    }
   ],
   "source": [
    "# weights\n",
    "catsDogs[0].shape"
   ]
  },
  {
   "cell_type": "code",
   "execution_count": 76,
   "metadata": {},
   "outputs": [
    {
     "data": {
      "text/plain": [
       "0.020560000000000057"
      ]
     },
     "execution_count": 76,
     "metadata": {},
     "output_type": "execute_result"
    }
   ],
   "source": [
    "# bias\n",
    "catsDogs[1]"
   ]
  },
  {
   "cell_type": "markdown",
   "metadata": {},
   "source": [
    "# Prediction"
   ]
  },
  {
   "cell_type": "code",
   "execution_count": 77,
   "metadata": {},
   "outputs": [],
   "source": [
    "def binaryPredict(X, w, b):\n",
    "    # predicts the class of the input X\n",
    "    y_ = np.dot(X, w.T) + b\n",
    "    if y_ >= 0:\n",
    "        return 1\n",
    "    else:\n",
    "        return -1\n",
    "    # return np.sign(np.dot(X, w.T) + b)"
   ]
  },
  {
   "cell_type": "code",
   "execution_count": 78,
   "metadata": {},
   "outputs": [],
   "source": [
    "def predict(X):\n",
    "    count = np.zeros(numClasses)\n",
    "    for i in range(numClasses):\n",
    "        for j in range(i+1, numClasses):\n",
    "            wts, bias = classifiers[i][j]\n",
    "            # take majority prediction from each of the classifiers\n",
    "            y_ = binaryPredict(X, wts, bias)\n",
    "            if y_ == 1:\n",
    "                count[j] += 1\n",
    "            else:\n",
    "                count[i] += 1\n",
    "    pred = np.argmax(count)\n",
    "    return pred"
   ]
  },
  {
   "cell_type": "code",
   "execution_count": 79,
   "metadata": {},
   "outputs": [],
   "source": [
    "def getAccuracy(X, y):\n",
    "    count = 0\n",
    "    for i in range(X.shape[0]):\n",
    "        pred = predict(X[i])\n",
    "        if pred == y[i]:\n",
    "            count += 1\n",
    "    return count*100 / X.shape[0]"
   ]
  },
  {
   "cell_type": "code",
   "execution_count": 80,
   "metadata": {},
   "outputs": [
    {
     "data": {
      "text/plain": [
       "61.50990099009901"
      ]
     },
     "execution_count": 80,
     "metadata": {},
     "output_type": "execute_result"
    }
   ],
   "source": [
    "getAccuracy(image_flattened, imageLabels)"
   ]
  },
  {
   "cell_type": "markdown",
   "metadata": {},
   "source": [
    "## Sklearn implementation"
   ]
  },
  {
   "cell_type": "code",
   "execution_count": 81,
   "metadata": {},
   "outputs": [],
   "source": [
    "from sklearn import svm"
   ]
  },
  {
   "cell_type": "code",
   "execution_count": 82,
   "metadata": {},
   "outputs": [],
   "source": [
    "svm = svm.SVC(kernel='linear', C=1.0)"
   ]
  },
  {
   "cell_type": "code",
   "execution_count": 83,
   "metadata": {},
   "outputs": [
    {
     "data": {
      "text/plain": [
       "SVC(kernel='linear')"
      ]
     },
     "execution_count": 83,
     "metadata": {},
     "output_type": "execute_result"
    }
   ],
   "source": [
    "svm.fit(image_flattened, imageLabels)"
   ]
  },
  {
   "cell_type": "code",
   "execution_count": 84,
   "metadata": {},
   "outputs": [
    {
     "data": {
      "text/plain": [
       "0.6571782178217822"
      ]
     },
     "execution_count": 84,
     "metadata": {},
     "output_type": "execute_result"
    }
   ],
   "source": [
    "svm.score(image_flattened, imageLabels)"
   ]
  },
  {
   "cell_type": "code",
   "execution_count": null,
   "metadata": {},
   "outputs": [],
   "source": []
  }
 ],
 "metadata": {
  "interpreter": {
   "hash": "aee8b7b246df8f9039afb4144a1f6fd8d2ca17a180786b69acc140d282b71a49"
  },
  "kernelspec": {
   "display_name": "Python 3.9.1 64-bit",
   "name": "python3"
  },
  "language_info": {
   "codemirror_mode": {
    "name": "ipython",
    "version": 3
   },
   "file_extension": ".py",
   "mimetype": "text/x-python",
   "name": "python",
   "nbconvert_exporter": "python",
   "pygments_lexer": "ipython3",
   "version": "3.9.1"
  },
  "orig_nbformat": 4
 },
 "nbformat": 4,
 "nbformat_minor": 2
}
